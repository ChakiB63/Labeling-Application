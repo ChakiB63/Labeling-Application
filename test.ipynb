{
 "cells": [
  {
   "cell_type": "code",
   "execution_count": 1,
   "metadata": {},
   "outputs": [],
   "source": [
    "from Phenomena import Phenomena \n",
    "\n",
    "instance_phenomena = Phenomena(True in [True, False,True, False],[True, False,True, False])"
   ]
  },
  {
   "cell_type": "code",
   "execution_count": 4,
   "metadata": {},
   "outputs": [
    {
     "data": {
      "text/plain": [
       "'2024-04-18T02:44:18.152749'"
      ]
     },
     "execution_count": 4,
     "metadata": {},
     "output_type": "execute_result"
    }
   ],
   "source": [
    "from datetime import datetime\n",
    "\n",
    "\n",
    "t= datetime.now().isoformat()\n",
    "t"
   ]
  },
  {
   "cell_type": "code",
   "execution_count": null,
   "metadata": {},
   "outputs": [],
   "source": [
    "\"\"\"\n",
    "\n",
    "        # Créez deux colonnes avec une largeur définie\n",
    "        col1, col2 = st.columns([3, 1])\n",
    "\n",
    "        # Ajoutez du contenu à chaque colonne\n",
    "        with col1:\n",
    "            layers = np.array(['Airmass', 'Convection', 'Dust', 'NaturalEnhncd'])\n",
    "            layer = st.selectbox('Veuillez sélectionner le spectre des images à comparer :', layers)\n",
    "            layer = layer.lower()\n",
    "\n",
    "\n",
    "            img1, dt1, img2, dt2 = generate_both_pics(layer)\n",
    "            if not img1 :\n",
    "                st.text(\"Toutes les images contenues dans l'archive ont été comparés. Merci pour vos efforts.\")\n",
    "                st.stop()\n",
    "            # Create two columns\n",
    "            co1, co2 = st.columns(2)\n",
    "            # Display images in each column\n",
    "            with co1:\n",
    "                st.image(img1, caption=dt1)\n",
    "            with co2:\n",
    "                st.image(img2, caption=dt2)\n",
    "        with col2:\n",
    "            similarity_percentage = st.slider(\"Entrer le pourcentage de similarité :\", 0, 100)\n",
    "            similarity_label = st.radio(\"La similarité est : \", [\"Très faible\", \"Faible\", \"Modérée\", \"Forte\", \"Très forte\"],horizontal=True)\n",
    "            phenomena_presence  = st.radio(\"Présence d'un phénomène : \", [\"Oui\", \"Non\"],horizontal=True)\n",
    "            if phenomena_presence==\"Oui\":\n",
    "                phenomenas = st.multiselect(\"Si oui, lequel :\", [\"Convection\", \"Poussière\",\"Brouillard\",\"Feu forêt\",\"Goutte froide\"])\n",
    "            else:\n",
    "                phenomenas = st.multiselect(\"Si oui, lequel :\", [\"Convection\", \"Poussière\",\"Brouillard\",\"Feu forêt\",\"Goutte froide\"], disabled=True)\n",
    "                phenomenas = []\n",
    "\n",
    "            \n",
    "\n",
    "            if st.button(\"Enregistrer \"):\n",
    "                st.toast(\"Données enregistrées! Des images nouvelles seront affichées.\")\n",
    "                time.sleep(1.5)\n",
    "                st.cache_data.clear()\n",
    "                st.rerun()\n",
    "\n",
    "\"\"\""
   ]
  }
 ],
 "metadata": {
  "kernelspec": {
   "display_name": "Python 3",
   "language": "python",
   "name": "python3"
  },
  "language_info": {
   "codemirror_mode": {
    "name": "ipython",
    "version": 3
   },
   "file_extension": ".py",
   "mimetype": "text/x-python",
   "name": "python",
   "nbconvert_exporter": "python",
   "pygments_lexer": "ipython3",
   "version": "3.11.0"
  }
 },
 "nbformat": 4,
 "nbformat_minor": 2
}
